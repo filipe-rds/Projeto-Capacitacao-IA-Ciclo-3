{
 "cells": [
  {
   "cell_type": "markdown",
   "metadata": {
    "id": "67d98YQ9Em9J"
   },
   "source": [
    "# 📜 Projeto Final - Capacitação IA (Ciclo 3)\n",
    "# 🎓 Alunos: Filipe da Silva Rodrigues e Rodrigo Serafim Floriano da Silva"
   ]
  },
  {
   "cell_type": "markdown",
   "metadata": {
    "id": "0T3nUxV-Em9L"
   },
   "source": [
    "## 💻 Bibliotecas Necessárias"
   ]
  },
  {
   "cell_type": "code",
   "metadata": {},
   "source": [
    "# Instalação de bibliotecas necessárias para execução do código\n",
    "%pip install numpy pandas scikit-learn mlflow xgboost lightgbm --quiet"
   ],
   "outputs": [],
   "execution_count": null
  },
  {
   "cell_type": "code",
   "metadata": {
    "id": "Xx3sAPU_Em9L"
   },
   "source": [
    "# Tratamento de Dataset e Métricas\n",
    "import numpy as np\n",
    "import pandas as pd\n",
    "from sklearn.preprocessing import OneHotEncoder, MinMaxScaler\n",
    "from sklearn.compose import make_column_transformer\n",
    "from sklearn.model_selection import train_test_split, cross_val_predict\n",
    "from sklearn.metrics import accuracy_score, precision_score, recall_score, f1_score\n",
    "\n",
    "# Modelos de Treinamento\n",
    "# Decision Tree\n",
    "from sklearn.tree import DecisionTreeClassifier\n",
    "# Multi-layer Perceptron (MLP)\n",
    "from sklearn.neural_network import MLPClassifier\n",
    "# Support Vector Machine\n",
    "from sklearn.svm import SVC\n",
    "# Random Forest, Bagging e Gradient Boosting\n",
    "from sklearn.ensemble import RandomForestClassifier, BaggingClassifier, GradientBoostingClassifier\n",
    "# XGBoost\n",
    "from xgboost import XGBClassifier\n",
    "# LightGBM\n",
    "from lightgbm import LGBMClassifier\n",
    "\n",
    "# Armazenamento e Análise de Modelos\n",
    "import mlflow\n",
    "import mlflow.sklearn\n",
    "\n",
    "# Terminal\n",
    "import warnings\n",
    "from IPython.display import clear_output\n",
    "warnings.filterwarnings(\"ignore\")\n"
   ],
   "outputs": [],
   "execution_count": null
  },
  {
   "cell_type": "markdown",
   "metadata": {
    "id": "rieolC1PEm9M"
   },
   "source": [
    "\n",
    "---\n",
    "\n",
    "👾 **Dataset de Classificação - Kaggle: Water Quality**\n",
    "\n",
    "Esse dataframe é um conjunto de dados que contém informações sobre a qualidade da água e sua potabilidade. As variáveis são:\n",
    "\n",
    "- `ph`: o valor do pH da água (0 a 14).\n",
    "- `Hardness`: a capacidade da água de precipitar sabão em mg/L.\n",
    "- `Solids`: sólidos totais dissolvidos em ppm.\n",
    "- `Chloramines`: quantidade de cloraminas em ppm.\n",
    "- `Sulfate`: quantidade de sulfatos dissolvidos em mg/L.\n",
    "- `Conductivity`: condutividade elétrica da água em μS/cm.\n",
    "- `Organic_carbon`: quantidade de carbono orgânico em ppm.\n",
    "- `Trihalomethanes`: quantidade de trihalometanos em μg/L.\n",
    "- `Turbidity`: medida da propriedade de emissão de luz da água em NTU.\n",
    "- `Potability`: indica se a água é segura para consumo humano (1 = Potável, 0 = Não potável).\n",
    "\n",
    "✅ **Objetivo:** Prever se a água é potável ou não com base nas características coletadas.\n",
    "\n",
    "---\n"
   ]
  },
  {
   "cell_type": "code",
   "metadata": {
    "colab": {
     "base_uri": "https://localhost:8080/"
    },
    "id": "o_F2jeyjEm9M",
    "outputId": "50e652ed-7ad9-49ca-eac7-c8c045500bb3"
   },
   "source": [
    "# Carregar o dataset\n",
    "url = 'water_potability.csv'\n",
    "dataset = pd.read_csv(url)\n",
    "\n",
    "# Analisar o dataset\n",
    "print('\\nInformações do Dataset:\\n')\n",
    "display(dataset.info())\n",
    "\n",
    "print('\\nVerificar Valores Nulos:\\n')\n",
    "display(dataset.isnull().sum())\n",
    "\n",
    "# Exibir o dataset original\n",
    "print('\\nDataset Original:\\n')\n",
    "display(dataset)\n",
    "\n",
    "# Criar uma cópia do dataset para efetuar os devidos tratamentos\n",
    "df = dataset.copy()\n",
    "\n",
    "# Normalizando os dados das features na escala (0..1)\n",
    "columns_to_normalize = ['ph', 'Hardness', 'Solids', 'Chloramines', 'Sulfate', 'Conductivity', 'Organic_carbon', 'Trihalomethanes', 'Turbidity']\n",
    "df[columns_to_normalize] = MinMaxScaler().fit_transform(df[columns_to_normalize])\n",
    "\n",
    "# Separar os dados para o tratamento de features\n",
    "target = df['Potability'].copy()\n",
    "features = df.drop('Potability', axis=1).copy()\n",
    "\n",
    "# Combinando as features transformadas com o target\n",
    "df = pd.concat(\n",
    "    [features.reset_index(drop=True), target.reset_index(drop=True)], axis=1)\n",
    "\n",
    "# Exibindo o DataFrame tratado com as colunas renomeadas\n",
    "print('\\nDataset Tratado para Treinamento:\\n')\n",
    "display(df)\n",
    "\n",
    "# Análise de correlação entre as features\n",
    "print('\\nMatriz de Correlação:\\n')\n",
    "correlation_matrix = df.corr()\n",
    "display(correlation_matrix)\n",
    "\n",
    "# Separando os dados \n",
    "y = df['Potability']  # Coluna 'Potability'\n",
    "x = df.drop('Potability', axis=1)  # Todas as outras colunas\n",
    "\n",
    "x_train, x_test, y_train, y_test = train_test_split(x, y, test_size=0.2, random_state=None)\n"
   ],
   "outputs": [],
   "execution_count": null
  },
  {
   "cell_type": "markdown",
   "metadata": {
    "id": "ctiG4OLS83a7"
   },
   "source": [
    "## 🧪 Experimentos no MLFLOW"
   ]
  },
  {
   "cell_type": "code",
   "metadata": {
    "id": "pA1lhima83bB"
   },
   "source": [
    "# Definir os modelos e suas variações de parâmetros\n",
    "models = {\n",
    "    \"Decision Tree\": [\n",
    "        {\"criterion\": \"gini\", \"max_depth\": 10, \"min_samples_split\": 4},\n",
    "        {\"criterion\": \"entropy\", \"max_depth\": 20, \"min_samples_split\": 10},\n",
    "        {\"criterion\": \"gini\", \"max_depth\": 15, \"min_samples_split\": 5},\n",
    "    ],\n",
    "    \"Support Vector Machine\": [\n",
    "        {\"C\": 1.0, \"kernel\": \"linear\"},\n",
    "        {\"C\": 10.0, \"kernel\": \"rbf\"},\n",
    "        {\"C\": 100.0, \"kernel\": \"poly\", \"degree\": 3},\n",
    "    ],\n",
    "    \"Multi-layer Perceptron\": [\n",
    "        {\"hidden_layer_sizes\": (100, 50), \"activation\": \"relu\",\n",
    "         \"solver\": \"adam\", \"max_iter\": 1000},\n",
    "        {\"hidden_layer_sizes\": (50, 50, 50), \"activation\": \"tanh\",\n",
    "         \"solver\": \"adam\", \"max_iter\": 1000},\n",
    "        {\"hidden_layer_sizes\": (100, 50), \"activation\": \"relu\",\n",
    "         \"solver\": \"lbfgs\", \"max_iter\": 1000},\n",
    "    ],\n",
    "    \"Bagging\": [\n",
    "        {\"n_estimators\": 10, \"random_state\": 42},\n",
    "    ],\n",
    "    \"Random Forest\": [\n",
    "        {\"n_estimators\": 100, \"max_depth\": 10, \"random_state\": 42},\n",
    "    ],\n",
    "    \"Gradient Boosting\": [\n",
    "        {\"n_estimators\": 100, \"learning_rate\": 0.1, \"max_depth\": 3, \"random_state\": 42},\n",
    "    ],\n",
    "    \"XGBoost\": [\n",
    "        {\"n_estimators\": 100, \"learning_rate\": 0.1, \"max_depth\": 3, \"verbosity\": 0},\n",
    "    ],\n",
    "    \"LightGBM\": [\n",
    "        {\"n_estimators\": 100, \"learning_rate\": 0.1, \"max_depth\": -1, \"verbosity\": -1},\n",
    "    ]\n",
    "}\n",
    "\n",
    "# Mapeamento de nomes de modelos para classes\n",
    "model_classes = {\n",
    "    \"Decision Tree\": DecisionTreeClassifier,\n",
    "    \"Support Vector Machine\": SVC,\n",
    "    \"Multi-layer Perceptron\": MLPClassifier,\n",
    "    \"Bagging\": BaggingClassifier,\n",
    "    \"Random Forest\": RandomForestClassifier,\n",
    "    \"Gradient Boosting\": GradientBoostingClassifier,\n",
    "    \"XGBoost\": XGBClassifier,\n",
    "    \"LightGBM\": LGBMClassifier,\n",
    "}\n"
   ],
   "outputs": [],
   "execution_count": null
  },
  {
   "cell_type": "code",
   "metadata": {},
   "source": [
    "# Configurar o caminho relativo para os artefatos\n",
    "mlflow.set_tracking_uri(\"file:./mlruns\")\n",
    "\n",
    "# Preparar o ambiente do MLFlow e iniciar o experimento\n",
    "# lista para armazenar os resultados\n",
    "results = []\n",
    "\n",
    "# Iniciar o experimento\n",
    "mlflow.set_experiment(\"exp_projeto_ciclo_3\")\n",
    "\n",
    "# Contador para evitar conflitos de nomes\n",
    "counter = 0\n",
    "\n",
    "# Run para registrar os modelos treinados\n",
    "with mlflow.start_run(run_name=\"Modelos Treinados\") as main_run: # Principal\n",
    "    for model_name, param_variations in models.items():\n",
    "        for params in param_variations:\n",
    "            counter += 1\n",
    "            with mlflow.start_run(run_name=f\"{counter}. {model_name}\", nested=True): # Aninhada\n",
    "                # Instanciar o modelo usando o dicionário de classes\n",
    "                model = model_classes[model_name](**params)\n",
    "\n",
    "                # Treinar o modelo\n",
    "                model.fit(x_train, y_train)\n",
    "\n",
    "                # Fazer previsões no conjunto de teste\n",
    "                predictions = model.predict(x_test)\n",
    "\n",
    "                # Calcular as métricas\n",
    "                accuracy = accuracy_score(y_test, predictions)\n",
    "                precision = precision_score(y_test, predictions, average='weighted')\n",
    "                recall = recall_score(y_test, predictions, average='weighted')\n",
    "                f1 = f1_score(y_test, predictions, average='weighted')\n",
    "\n",
    "                # Registrar parâmetros individualmente\n",
    "                for key, value in params.items():\n",
    "                    mlflow.log_param(key, str(value))\n",
    "                \n",
    "                # Registrar métricas e modelo\n",
    "                mlflow.log_metric(\"Accuracy\", accuracy)\n",
    "                mlflow.log_metric(\"Precision\", precision)\n",
    "                mlflow.log_metric(\"Recall\", recall)\n",
    "                mlflow.log_metric(\"F1 Score\", f1)\n",
    "                \n",
    "                mlflow.sklearn.log_model(model, model_name)\n",
    "\n",
    "                # Armazenar resultados\n",
    "                results.append({\"model\": model_name, \"params\": params,\n",
    "                               \"Accuracy\": accuracy, \"Precision\": precision, \"Recall\": recall, \"F1 Score\": f1})\n",
    "\n",
    "    # Selecionar os 3 melhores modelos com base na métrica F1 Score\n",
    "    best_models = sorted(results, key=lambda x: x[\"F1 Score\"], reverse=True)[:3]\n",
    "\n",
    "# Limpar a saída do terminal\n",
    "clear_output(wait=True)\n",
    "\n",
    "print(\"\\nMelhores Modelos:\\n\")\n",
    "for model_info in best_models:\n",
    "    print(model_info)\n",
    "print(\"\\n\\n\")\n",
    "\n",
    "# Run para registrar os melhores modelos\n",
    "acc = 4\n",
    "with mlflow.start_run(run_name=\"Melhores Modelos\") as main_run: # Principal\n",
    "    for model_info in reversed(best_models):\n",
    "            acc -= 1\n",
    "            model_name = model_info[\"model\"]\n",
    "            params = model_info[\"params\"]\n",
    "            \n",
    "            with mlflow.start_run(run_name=f\"{acc}. {model_name}\", nested=True): # Aninhada\n",
    "                # Instanciar o modelo usando o dicionário de classes\n",
    "               model = model_classes[model_name](**params)\n",
    "                \n",
    "                # Treinar o modelo\n",
    "                model.fit(x_train, y_train)\n",
    "\n",
    "                # Fazer previsões no conjunto de teste\n",
    "                predictions = model.predict(x_test)\n",
    "\n",
    "                # Calcular as métricas\n",
    "                accuracy = accuracy_score(y_test, predictions)\n",
    "                precision = precision_score(y_test, predictions, average='weighted')\n",
    "                recall = recall_score(y_test, predictions, average='weighted')\n",
    "                f1 = f1_score(y_test, predictions, average='weighted')\n",
    "\n",
    "                # Registrar parâmetros individualmente\n",
    "                for key, value in params.items():\n",
    "                    mlflow.log_param(key, str(value))\n",
    "\n",
    "                # Registrar métricas e modelo\n",
    "                mlflow.log_metric(\"Accuracy\", accuracy)\n",
    "                mlflow.log_metric(\"Precision\", precision)\n",
    "                mlflow.log_metric(\"Recall\", recall)\n",
    "                mlflow.log_metric(\"F1 Score\", f1)\n",
    "\n",
    "                mlflow.sklearn.log_model(\n",
    "                    model, model_name, registered_model_name=model_name)\n"
   ],
   "outputs": [],
   "execution_count": null
  },
  {
   "cell_type": "markdown",
   "metadata": {},
   "source": [
    "## 💾 Modelos Registrados no MLFLOW"
   ]
  },
  {
   "cell_type": "code",
   "metadata": {},
   "source": [
    "import subprocess\n",
    "\n",
    "# Definir o tracking URI do MLflow\n",
    "mlflow_tracking_uri = 'file:./mlruns'  # Caminho relativo\n",
    "\n",
    "mlflow.set_tracking_uri(mlflow_tracking_uri)\n",
    "\n",
    "# Iniciar o MLflow UI em um subprocesso separado\n",
    "mlflow_process = subprocess.Popen([\"mlflow\", \"ui\", \"--host\", \"127.0.0.1\", \"--port\", \"5000\"])\n",
    "\n",
    "# Exibir a URL do MLflow UI\n",
    "print(\"MLflow UI está rodando em http://127.0.0.1:5000\")"
   ],
   "outputs": [],
   "execution_count": null
  },
  {
   "cell_type": "code",
   "metadata": {},
   "source": [
    "# Parar o subprocesso do MLflow UI\n",
    "mlflow_process.terminate()\n",
    "\n",
    "# Confirmar que o MLflow UI foi parado\n",
    "print(\"MLflow UI foi parado\")"
   ],
   "outputs": [],
   "execution_count": null
  }
 ],
 "metadata": {
  "accelerator": "GPU",
  "colab": {
   "gpuType": "T4",
   "provenance": []
  },
  "kernelspec": {
   "display_name": "Python 3 (ipykernel)",
   "name": "python3",
   "language": "python"
  },
  "language_info": {
   "codemirror_mode": {
    "name": "ipython",
    "version": 3
   },
   "file_extension": ".py",
   "mimetype": "text/x-python",
   "name": "python",
   "nbconvert_exporter": "python",
   "pygments_lexer": "ipython3",
   "version": "3.12.4"
  }
 },
 "nbformat": 4,
 "nbformat_minor": 0
}
